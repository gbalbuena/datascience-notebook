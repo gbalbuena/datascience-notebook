{
 "cells": [
  {
   "cell_type": "code",
   "execution_count": 12,
   "id": "included-richards",
   "metadata": {},
   "outputs": [],
   "source": [
    "import statsmodels.api as sm\n",
    "import pandas\n",
    "from patsy import dmatrices"
   ]
  },
  {
   "cell_type": "markdown",
   "id": "driving-canyon",
   "metadata": {},
   "source": [
    "## Autoregression (AR)\n",
    "\n",
    "The autoregression (AR) method models the next step in the sequence as a linear function of the observations at prior time steps.\n",
    "\n",
    "The notation for the model involves specifying the order of the model p as a parameter to the AR function, e.g. AR(p). For example, AR(1) is a first-order autoregression model.\n",
    "\n",
    "The method is suitable for univariate time series without trend and seasonal components.\n",
    "\n",
    "### More information\n",
    "\n",
    "[statsmodels.tsa.ar_model.AutoReg API](https://www.statsmodels.org/stable/generated/statsmodels.tsa.ar_model.AutoReg.html)\n",
    "[statsmodels.tsa.ar_model.AutoRegResults API](https://www.statsmodels.org/stable/generated/statsmodels.tsa.ar_model.AutoRegResults.html)\n",
    "[Autoregressive model on Wikipedia](https://en.wikipedia.org/wiki/Autoregressive_model)"
   ]
  },
  {
   "cell_type": "code",
   "execution_count": 19,
   "id": "optional-sword",
   "metadata": {},
   "outputs": [],
   "source": [
    "from statsmodels.tsa.ar_model import AutoReg\n",
    "from random import random\n",
    "\n",
    "# contrived dataset\n",
    "data = [x + random() for x in range(1, 100)]"
   ]
  },
  {
   "cell_type": "code",
   "execution_count": 20,
   "id": "appreciated-influence",
   "metadata": {},
   "outputs": [
    {
     "name": "stdout",
     "output_type": "stream",
     "text": [
      "[100.42521266]\n"
     ]
    },
    {
     "name": "stderr",
     "output_type": "stream",
     "text": [
      "/usr/local/lib/python3.6/dist-packages/statsmodels/tsa/ar_model.py:252: FutureWarning: The parameter names will change after 0.12 is released. Set old_names to False to use the new names now. Set old_names to True to use the old names. \n",
      "  FutureWarning,\n"
     ]
    }
   ],
   "source": [
    "# fit model\n",
    "model = AutoReg(data, lags=1)\n",
    "model_fit = model.fit()\n",
    "# make prediction\n",
    "yhat = model_fit.predict(len(data), len(data))\n",
    "print(yhat)"
   ]
  },
  {
   "cell_type": "code",
   "execution_count": null,
   "id": "dependent-relay",
   "metadata": {},
   "outputs": [],
   "source": []
  },
  {
   "cell_type": "markdown",
   "id": "metallic-delay",
   "metadata": {},
   "source": [
    "## Seasonal Autoregressive Integrated Moving-Average (SARIMA)"
   ]
  },
  {
   "cell_type": "code",
   "execution_count": 21,
   "id": "faced-manchester",
   "metadata": {},
   "outputs": [
    {
     "name": "stdout",
     "output_type": "stream",
     "text": [
      "[100.27949329]\n"
     ]
    },
    {
     "name": "stderr",
     "output_type": "stream",
     "text": [
      "/usr/local/lib/python3.6/dist-packages/statsmodels/tsa/statespace/sarimax.py:966: UserWarning: Non-stationary starting autoregressive parameters found. Using zeros as starting parameters.\n",
      "  warn('Non-stationary starting autoregressive parameters'\n",
      "/usr/local/lib/python3.6/dist-packages/statsmodels/tsa/statespace/sarimax.py:978: UserWarning: Non-invertible starting MA parameters found. Using zeros as starting parameters.\n",
      "  warn('Non-invertible starting MA parameters found.'\n",
      "/usr/local/lib/python3.6/dist-packages/statsmodels/base/model.py:568: ConvergenceWarning: Maximum Likelihood optimization failed to converge. Check mle_retvals\n",
      "  ConvergenceWarning)\n"
     ]
    }
   ],
   "source": [
    "# SARIMA example\n",
    "from statsmodels.tsa.statespace.sarimax import SARIMAX\n",
    "from random import random"
   ]
  },
  {
   "cell_type": "code",
   "execution_count": 23,
   "id": "sized-davis",
   "metadata": {},
   "outputs": [
    {
     "data": {
      "text/plain": [
       "[1.832948418231668,\n",
       " 2.2208667797856316,\n",
       " 3.291453610159575,\n",
       " 4.571715836006385,\n",
       " 5.984383277604346,\n",
       " 6.470560224408499,\n",
       " 7.263764040540173,\n",
       " 8.041582179130433,\n",
       " 9.032085027670128,\n",
       " 10.828981049072091,\n",
       " 11.349038337511232,\n",
       " 12.737042501040998,\n",
       " 13.939248865931505,\n",
       " 14.393779716038964,\n",
       " 15.559386206937841,\n",
       " 16.236965377752497,\n",
       " 17.06264346248368,\n",
       " 18.8275739209008,\n",
       " 19.152360803135355,\n",
       " 20.43712821309308,\n",
       " 21.989849155696994,\n",
       " 22.858050162236953,\n",
       " 23.80871529411953,\n",
       " 24.74549172849637,\n",
       " 25.13349485355706,\n",
       " 26.477601233052102,\n",
       " 27.71082966035427,\n",
       " 28.13504029089684,\n",
       " 29.069877028773742,\n",
       " 30.260656289084135,\n",
       " 31.385525596537377,\n",
       " 32.74634705655871,\n",
       " 33.22204946561442,\n",
       " 34.72047984270327,\n",
       " 35.29761993646103,\n",
       " 36.82032158855169,\n",
       " 37.72098037329863,\n",
       " 38.95238484605231,\n",
       " 39.586438688986526,\n",
       " 40.88674799397236,\n",
       " 41.48971502793336,\n",
       " 42.34374931318024,\n",
       " 43.01923934815609,\n",
       " 44.67605268859917,\n",
       " 45.14109620120965,\n",
       " 46.25990449397761,\n",
       " 47.73632712186831,\n",
       " 48.38994723165834,\n",
       " 49.00586873980259,\n",
       " 50.086403298694115,\n",
       " 51.64246324209327,\n",
       " 52.88004718306705,\n",
       " 53.10624132019803,\n",
       " 54.53859208697573,\n",
       " 55.67924842047508,\n",
       " 56.46541470153879,\n",
       " 57.399260821709774,\n",
       " 58.25292013994592,\n",
       " 59.244897062859025,\n",
       " 60.476023005866,\n",
       " 61.23388142948299,\n",
       " 62.683213265062946,\n",
       " 63.008557796090955,\n",
       " 64.865779421891,\n",
       " 65.34387265473757,\n",
       " 66.47491756529885,\n",
       " 67.81236483044125,\n",
       " 68.16158949057628,\n",
       " 69.468676519681,\n",
       " 70.63841337747802,\n",
       " 71.54184702571925,\n",
       " 72.38110028263961,\n",
       " 73.27064480777159,\n",
       " 74.41743739850857,\n",
       " 75.98086257523865,\n",
       " 76.53639022093311,\n",
       " 77.98188189097573,\n",
       " 78.02741869849929,\n",
       " 79.28173404705093,\n",
       " 80.78326582351467,\n",
       " 81.6976178165459,\n",
       " 82.41426834345398,\n",
       " 83.2655482266443,\n",
       " 84.87192169170574,\n",
       " 85.89737037493005,\n",
       " 86.84448147140291,\n",
       " 87.74305600482873,\n",
       " 88.77190951468754,\n",
       " 89.30717893598796,\n",
       " 90.34832378350617,\n",
       " 91.67705534109857,\n",
       " 92.34074523274327,\n",
       " 93.16602832426393,\n",
       " 94.12396400425283,\n",
       " 95.33181719066813,\n",
       " 96.20421999986608,\n",
       " 97.07309664715451,\n",
       " 98.49735302263069,\n",
       " 99.02046515624143]"
      ]
     },
     "execution_count": 23,
     "metadata": {},
     "output_type": "execute_result"
    }
   ],
   "source": [
    "# contrived dataset\n",
    "data = [x + random() for x in range(1, 100)]\n",
    "data"
   ]
  },
  {
   "cell_type": "code",
   "execution_count": null,
   "id": "bibliographic-parliament",
   "metadata": {},
   "outputs": [],
   "source": [
    "# fit model\n",
    "model = SARIMAX(data, order=(1, 1, 1), seasonal_order=(0, 0, 0, 0))\n",
    "model_fit = model.fit(disp=False)\n",
    "# make prediction\n",
    "yhat = model_fit.predict(len(data), len(data))\n",
    "print(yhat)"
   ]
  }
 ],
 "metadata": {
  "kernelspec": {
   "display_name": "Python 3",
   "language": "python",
   "name": "python3"
  },
  "language_info": {
   "codemirror_mode": {
    "name": "ipython",
    "version": 3
   },
   "file_extension": ".py",
   "mimetype": "text/x-python",
   "name": "python",
   "nbconvert_exporter": "python",
   "pygments_lexer": "ipython3",
   "version": "3.6.9"
  }
 },
 "nbformat": 4,
 "nbformat_minor": 5
}
